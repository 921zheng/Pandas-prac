{
  "nbformat": 4,
  "nbformat_minor": 0,
  "metadata": {
    "colab": {
      "provenance": [],
      "authorship_tag": "ABX9TyO4Ot92KKSWJ3/0fQwLt0ob",
      "include_colab_link": true
    },
    "kernelspec": {
      "name": "python3",
      "display_name": "Python 3"
    },
    "language_info": {
      "name": "python"
    }
  },
  "cells": [
    {
      "cell_type": "markdown",
      "metadata": {
        "id": "view-in-github",
        "colab_type": "text"
      },
      "source": [
        "<a href=\"https://colab.research.google.com/github/921zheng/Excel-catdog/blob/main/Pandas_dataframe.ipynb\" target=\"_parent\"><img src=\"https://colab.research.google.com/assets/colab-badge.svg\" alt=\"Open In Colab\"/></a>"
      ]
    },
    {
      "cell_type": "code",
      "execution_count": 43,
      "metadata": {
        "id": "deWr1hNOLpNP"
      },
      "outputs": [],
      "source": [
        "### Hello Everyone"
      ]
    },
    {
      "cell_type": "markdown",
      "source": [
        "\n"
      ],
      "metadata": {
        "id": "f9s7HikbQUsA"
      }
    },
    {
      "cell_type": "code",
      "source": [
        "print('hi')"
      ],
      "metadata": {
        "colab": {
          "base_uri": "https://localhost:8080/"
        },
        "id": "PHx6MpyjQu49",
        "outputId": "57ea4ed5-9d6c-43f6-ef59-d0d8fd9b97e3"
      },
      "execution_count": 6,
      "outputs": [
        {
          "output_type": "stream",
          "name": "stdout",
          "text": [
            "hi\n"
          ]
        }
      ]
    },
    {
      "cell_type": "code",
      "source": [
        "import pandas as pd"
      ],
      "metadata": {
        "id": "ZTWVY0hnTL0a"
      },
      "execution_count": 9,
      "outputs": []
    },
    {
      "cell_type": "markdown",
      "source": [
        "### hfidsof\n"
      ],
      "metadata": {
        "id": "yDrBF4_cQygR"
      }
    },
    {
      "cell_type": "markdown",
      "source": [],
      "metadata": {
        "id": "WQBZnBAnQTOB"
      }
    },
    {
      "cell_type": "markdown",
      "source": [],
      "metadata": {
        "id": "_6QG9WwoQ6jl"
      }
    },
    {
      "cell_type": "code",
      "source": [
        "customers = [\n",
        "    {'ID101':1},\n",
        "    {'ID102':2},\n",
        "    {'Id103':3},\n",
        "]\n"
      ],
      "metadata": {
        "id": "VDpIU30hW8MY"
      },
      "execution_count": 44,
      "outputs": []
    },
    {
      "cell_type": "code",
      "source": [
        "df=pd.DataFrame(customers)\n",
        "print(df)"
      ],
      "metadata": {
        "colab": {
          "base_uri": "https://localhost:8080/"
        },
        "id": "G3-VZnbNX0eg",
        "outputId": "549ae87d-8905-426a-dc17-3877ef552018"
      },
      "execution_count": 45,
      "outputs": [
        {
          "output_type": "stream",
          "name": "stdout",
          "text": [
            "   ID101  ID102  Id103\n",
            "0    1.0    NaN    NaN\n",
            "1    NaN    2.0    NaN\n",
            "2    NaN    NaN    3.0\n"
          ]
        }
      ]
    },
    {
      "cell_type": "code",
      "source": [
        "data = {\n",
        "    'Date': ['14.08.2023', '17.8.2023', '19.9.2023', '21.10.2023', '1.11.2023'],\n",
        "    'PersonalID': ['00234', '00235', '00236', '00237', '00238'],\n",
        "    'First name': ['John', 'Elen', 'Bill', 'Jack', 'Mary'],\n",
        "    'Second name': ['Cane', 'Tudor', 'Wick', 'Sommerset', 'Lamb']}\n"
      ],
      "metadata": {
        "id": "esh2bQnSabcC"
      },
      "execution_count": 28,
      "outputs": []
    },
    {
      "cell_type": "code",
      "source": [
        "df=pd.DataFrame(data)\n",
        "print(df)\n",
        "print(df.Date)\n",
        "print(df.dtypes)"
      ],
      "metadata": {
        "colab": {
          "base_uri": "https://localhost:8080/"
        },
        "id": "kvy2pkb9ac3C",
        "outputId": "a10fc544-1a0d-4adc-b7be-70498079dc92"
      },
      "execution_count": 37,
      "outputs": [
        {
          "output_type": "stream",
          "name": "stdout",
          "text": [
            "         Date PersonalID First name Second name\n",
            "0  14.08.2023      00234       John        Cane\n",
            "1   17.8.2023      00235       Elen       Tudor\n",
            "2   19.9.2023      00236       Bill        Wick\n",
            "3  21.10.2023      00237       Jack   Sommerset\n",
            "4   1.11.2023      00238       Mary        Lamb\n",
            "0    14.08.2023\n",
            "1     17.8.2023\n",
            "2     19.9.2023\n",
            "3    21.10.2023\n",
            "4     1.11.2023\n",
            "Name: Date, dtype: object\n",
            "Date           object\n",
            "PersonalID     object\n",
            "First name     object\n",
            "Second name    object\n",
            "dtype: object\n"
          ]
        }
      ]
    },
    {
      "cell_type": "code",
      "source": [
        "student=[{'ID':0, 'age':34},\n",
        "         {'ID':1, 'age':34},\n",
        "         {'ID':2, 'age':34},\n",
        "          {'ID':3, 'age':34},\n",
        "         {'ID':4, 'age':34},\n",
        "         {'ID':5, 'age':34}\n",
        "         ]"
      ],
      "metadata": {
        "id": "9634EGbjcYOq"
      },
      "execution_count": 69,
      "outputs": []
    },
    {
      "cell_type": "code",
      "source": [
        "df=pd.DataFrame(student)\n",
        "print(df)"
      ],
      "metadata": {
        "colab": {
          "base_uri": "https://localhost:8080/"
        },
        "id": "QKwG3LRdiyRB",
        "outputId": "8aa2856d-d2b6-42ba-aaa4-4e1ade77e399"
      },
      "execution_count": 76,
      "outputs": [
        {
          "output_type": "stream",
          "name": "stdout",
          "text": [
            "   ID  age\n",
            "0   0   34\n",
            "1   1   34\n",
            "2   2   34\n",
            "3   3   34\n",
            "4   4   34\n",
            "5   5   34\n"
          ]
        }
      ]
    },
    {
      "cell_type": "code",
      "source": [
        "print(df['age'].mean())"
      ],
      "metadata": {
        "colab": {
          "base_uri": "https://localhost:8080/"
        },
        "id": "LHzXaStWwOW8",
        "outputId": "c2f5f730-79c4-429d-8c60-51151c08fa7a"
      },
      "execution_count": 77,
      "outputs": [
        {
          "output_type": "stream",
          "name": "stdout",
          "text": [
            "34.0\n"
          ]
        }
      ]
    },
    {
      "cell_type": "code",
      "source": [
        "print(df.age.mean())"
      ],
      "metadata": {
        "colab": {
          "base_uri": "https://localhost:8080/"
        },
        "id": "hPgVOAUXxwxi",
        "outputId": "8a202fb1-22b7-460f-94a0-a1dbe74ae082"
      },
      "execution_count": 79,
      "outputs": [
        {
          "output_type": "stream",
          "name": "stdout",
          "text": [
            "34.0\n"
          ]
        }
      ]
    },
    {
      "cell_type": "code",
      "source": [
        "print(df['age'].max())"
      ],
      "metadata": {
        "colab": {
          "base_uri": "https://localhost:8080/"
        },
        "id": "73zIdpLSwX4U",
        "outputId": "be49ffc4-7ebd-4d6c-b841-042a1d1a91a2"
      },
      "execution_count": 78,
      "outputs": [
        {
          "output_type": "stream",
          "name": "stdout",
          "text": [
            "34\n"
          ]
        }
      ]
    },
    {
      "cell_type": "code",
      "source": [
        "print(df.age)"
      ],
      "metadata": {
        "colab": {
          "base_uri": "https://localhost:8080/"
        },
        "id": "HmoUHKI5fJiD",
        "outputId": "c141154c-fd38-439b-8b04-2da1ea855906"
      },
      "execution_count": 56,
      "outputs": [
        {
          "output_type": "stream",
          "name": "stdout",
          "text": [
            "0    [30, 34, 34]\n",
            "1              34\n",
            "2              34\n",
            "3              34\n",
            "4              34\n",
            "5              34\n",
            "Name: age, dtype: object\n"
          ]
        }
      ]
    },
    {
      "cell_type": "code",
      "source": [
        "print(df['age'])"
      ],
      "metadata": {
        "colab": {
          "base_uri": "https://localhost:8080/"
        },
        "id": "MwFgLJKBlMOb",
        "outputId": "a978f908-ddd0-416f-aeee-ff086fd80890"
      },
      "execution_count": 57,
      "outputs": [
        {
          "output_type": "stream",
          "name": "stdout",
          "text": [
            "0    [30, 34, 34]\n",
            "1              34\n",
            "2              34\n",
            "3              34\n",
            "4              34\n",
            "5              34\n",
            "Name: age, dtype: object\n"
          ]
        }
      ]
    },
    {
      "cell_type": "code",
      "source": [
        "print(df.loc[1])"
      ],
      "metadata": {
        "colab": {
          "base_uri": "https://localhost:8080/"
        },
        "id": "uYzGs1ftn4TJ",
        "outputId": "1dec4e6b-2941-46ec-bf09-5e52b075fac6"
      },
      "execution_count": 58,
      "outputs": [
        {
          "output_type": "stream",
          "name": "stdout",
          "text": [
            "ID      1\n",
            "age    34\n",
            "Name: 1, dtype: object\n"
          ]
        }
      ]
    },
    {
      "cell_type": "code",
      "source": [
        "print(df.loc[1,'age'])"
      ],
      "metadata": {
        "colab": {
          "base_uri": "https://localhost:8080/"
        },
        "id": "XRFyZFuHoAhA",
        "outputId": "3897e71a-083d-482d-abfe-769b6de36448"
      },
      "execution_count": 59,
      "outputs": [
        {
          "output_type": "stream",
          "name": "stdout",
          "text": [
            "34\n"
          ]
        }
      ]
    },
    {
      "cell_type": "code",
      "source": [
        "print(df.loc[[2,5,3],'age'])"
      ],
      "metadata": {
        "colab": {
          "base_uri": "https://localhost:8080/"
        },
        "id": "FRmsIGojoGMq",
        "outputId": "c65aca68-1123-4b89-9fab-39f8d5149007"
      },
      "execution_count": 61,
      "outputs": [
        {
          "output_type": "stream",
          "name": "stdout",
          "text": [
            "2    34\n",
            "5    34\n",
            "3    34\n",
            "Name: age, dtype: object\n"
          ]
        }
      ]
    },
    {
      "cell_type": "code",
      "source": [
        "print(df.loc[1:3])"
      ],
      "metadata": {
        "colab": {
          "base_uri": "https://localhost:8080/"
        },
        "id": "IOrXPqLhoQxd",
        "outputId": "5bf9cdcc-d66f-4410-ea8f-f10285ca575a"
      },
      "execution_count": 74,
      "outputs": [
        {
          "output_type": "stream",
          "name": "stdout",
          "text": [
            "   6  0  0.1  0.2  0.3  0.4  0.5  0.6  0.7  0.8  ...  0.581  0.582  0.583  \\\n",
            "1  7  0    0    0    0    0    0    0    0    0  ...      0      0      0   \n",
            "2  9  0    0    0    0    0    0    0    0    0  ...      0      0      0   \n",
            "3  5  0    0    0    0    0    0    0    0    0  ...      0      0      0   \n",
            "\n",
            "   0.584  0.585  0.586  0.587  0.588  0.589  0.590  \n",
            "1      0      0      0      0      0      0      0  \n",
            "2      0      0      0      0      0      0      0  \n",
            "3      0      0      0      0      0      0      0  \n",
            "\n",
            "[3 rows x 785 columns]\n"
          ]
        }
      ]
    },
    {
      "cell_type": "code",
      "source": [
        "df.to_csv('age_csv')"
      ],
      "metadata": {
        "id": "CGpRautxtfh5"
      },
      "execution_count": 72,
      "outputs": []
    },
    {
      "cell_type": "code",
      "source": [
        "df=pd.read_csv('/content/sample_data/mnist_train_small.csv')\n",
        "print(df)"
      ],
      "metadata": {
        "colab": {
          "base_uri": "https://localhost:8080/"
        },
        "id": "OIDxi_BovAU5",
        "outputId": "f0f7151c-b581-494a-89b0-7477d9a2d62c"
      },
      "execution_count": 73,
      "outputs": [
        {
          "output_type": "stream",
          "name": "stdout",
          "text": [
            "       6  0  0.1  0.2  0.3  0.4  0.5  0.6  0.7  0.8  ...  0.581  0.582  0.583  \\\n",
            "0      5  0    0    0    0    0    0    0    0    0  ...      0      0      0   \n",
            "1      7  0    0    0    0    0    0    0    0    0  ...      0      0      0   \n",
            "2      9  0    0    0    0    0    0    0    0    0  ...      0      0      0   \n",
            "3      5  0    0    0    0    0    0    0    0    0  ...      0      0      0   \n",
            "4      2  0    0    0    0    0    0    0    0    0  ...      0      0      0   \n",
            "...   .. ..  ...  ...  ...  ...  ...  ...  ...  ...  ...    ...    ...    ...   \n",
            "19994  0  0    0    0    0    0    0    0    0    0  ...      0      0      0   \n",
            "19995  1  0    0    0    0    0    0    0    0    0  ...      0      0      0   \n",
            "19996  2  0    0    0    0    0    0    0    0    0  ...      0      0      0   \n",
            "19997  9  0    0    0    0    0    0    0    0    0  ...      0      0      0   \n",
            "19998  5  0    0    0    0    0    0    0    0    0  ...      0      0      0   \n",
            "\n",
            "       0.584  0.585  0.586  0.587  0.588  0.589  0.590  \n",
            "0          0      0      0      0      0      0      0  \n",
            "1          0      0      0      0      0      0      0  \n",
            "2          0      0      0      0      0      0      0  \n",
            "3          0      0      0      0      0      0      0  \n",
            "4          0      0      0      0      0      0      0  \n",
            "...      ...    ...    ...    ...    ...    ...    ...  \n",
            "19994      0      0      0      0      0      0      0  \n",
            "19995      0      0      0      0      0      0      0  \n",
            "19996      0      0      0      0      0      0      0  \n",
            "19997      0      0      0      0      0      0      0  \n",
            "19998      0      0      0      0      0      0      0  \n",
            "\n",
            "[19999 rows x 785 columns]\n"
          ]
        }
      ]
    }
  ]
}